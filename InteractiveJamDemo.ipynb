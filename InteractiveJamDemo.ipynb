{
 "cells": [
  {
   "cell_type": "markdown",
   "id": "crucial-waterproof",
   "metadata": {},
   "source": [
    "**Demonstrate the effect of Interference Mitigation on the Cross-Ambiguity Function**"
   ]
  },
  {
   "cell_type": "code",
   "execution_count": 1,
   "id": "north-arkansas",
   "metadata": {},
   "outputs": [],
   "source": [
    "# Load the required libraries\n",
    "import numpy as np\n",
    "\n",
    "import ipyvolume as ipv\n",
    "import ipywidgets as widgets\n",
    "from ipyfilechooser import FileChooser\n",
    "from IPython.display import display\n",
    "\n",
    "# Custom library for the generation of the C/A code and for signal acquisition\n",
    "import cafwidget as caf"
   ]
  },
  {
   "cell_type": "markdown",
   "id": "checked-girlfriend",
   "metadata": {},
   "source": [
    "**Set the signal characteristics**"
   ]
  },
  {
   "cell_type": "code",
   "execution_count": 2,
   "id": "seeing-perry",
   "metadata": {},
   "outputs": [],
   "source": [
    "signal_char = {\n",
    "               \"fs\" : 10e6,          # Sampling frequency\n",
    "               \"fi\" : 0e3,         # Intermediate frequency\n",
    "              }\n",
    "\n",
    "isComplex = True   # Tell if the samples are in I/Q format\n",
    "is16Bits  = False  # Tell if the samples are stored on 16 bits/byte\n",
    "isRtl = False      # Tell if the data were collected using an RTl-SDR dongle"
   ]
  },
  {
   "cell_type": "markdown",
   "id": "excellent-exemption",
   "metadata": {},
   "source": [
    "**Acquisition parameters**"
   ]
  },
  {
   "cell_type": "code",
   "execution_count": 3,
   "id": "sustainable-joining",
   "metadata": {},
   "outputs": [],
   "source": [
    "acq_char = {\n",
    "            \"Nd\" : 121,              # Number of Doppler bins\n",
    "            \"DopStep\" : 125,        # Doppler bin size in Hz\n",
    "            \"K\" : 1                 # Number of non-coherent integrations\n",
    "           }"
   ]
  },
  {
   "cell_type": "markdown",
   "id": "unauthorized-absorption",
   "metadata": {},
   "source": [
    "**Open the input file and read the data**"
   ]
  },
  {
   "cell_type": "code",
   "execution_count": 4,
   "id": "increasing-obligation",
   "metadata": {},
   "outputs": [
    {
     "data": {
      "application/vnd.jupyter.widget-view+json": {
       "model_id": "a3220377bab0456e8aaa07977e16bdc2",
       "version_major": 2,
       "version_minor": 0
      },
      "text/plain": [
       "FileChooser(path='/home/daniele/Documents/Projects/2021/Jamming demo', filename='', title='HTML(value='', layo…"
      ]
     },
     "metadata": {},
     "output_type": "display_data"
    }
   ],
   "source": [
    "# Create and display a FileChooser widget\n",
    "fc = FileChooser()\n",
    "display(fc)"
   ]
  },
  {
   "cell_type": "code",
   "execution_count": 5,
   "id": "framed-driving",
   "metadata": {},
   "outputs": [],
   "source": [
    "filename = fc.selected\n",
    "if filename is None :\n",
    "    filename = \"./JammerData.bin\"\n",
    "    \n",
    "#open the binary file\n",
    "fid = open(filename,'rb');\n",
    "\n",
    "secondOfData = 0.01\n",
    "N = np.int(np.floor( secondOfData * signal_char[\"fs\"] ))\n",
    "\n",
    "if isComplex :\n",
    "    if is16Bits :    \n",
    "        data = np.fromfile(fid, dtype = np.int16, count = 2 * N )\n",
    "    else :\n",
    "        if isRtl :\n",
    "            data = np.fromfile(fid, dtype = np.uint8, count = 2 * N )\n",
    "            data = data.astype(dtype = np.int8) - 127\n",
    "        else :\n",
    "            data = np.fromfile(fid, dtype = np.int8, count = 2 * N )\n",
    "    data = data[::2] + 1j*data[1::2]\n",
    "else:\n",
    "    if is16Bits :    \n",
    "        data = np.fromfile(fid, dtype = np.int16, count = N )\n",
    "    else :\n",
    "        data = np.fromfile(fid, dtype = np.int8, count = N )"
   ]
  },
  {
   "cell_type": "markdown",
   "id": "fabulous-stewart",
   "metadata": {},
   "source": [
    "**Create the CAF object**"
   ]
  },
  {
   "cell_type": "code",
   "execution_count": 7,
   "id": "outstanding-leadership",
   "metadata": {},
   "outputs": [
    {
     "data": {
      "application/vnd.jupyter.widget-view+json": {
       "model_id": "375f1b3791bd4354bd2b63bed0b1bc54",
       "version_major": 2,
       "version_minor": 0
      },
      "text/plain": [
       "VBox(children=(Figure(camera=PerspectiveCamera(fov=46.0, position=(0.0, 0.0, 2.0), projectionMatrix=(1.0, 0.0,…"
      ]
     },
     "metadata": {},
     "output_type": "display_data"
    },
    {
     "data": {
      "application/vnd.jupyter.widget-view+json": {
       "model_id": "3ab8147dfb464f8ca36e3ed8d75ac6ab",
       "version_major": 2,
       "version_minor": 0
      },
      "text/plain": [
       "interactive(children=(FloatSlider(value=5.0, continuous_update=False, description='$T_h$', max=20.0, min=1.0),…"
      ]
     },
     "metadata": {},
     "output_type": "display_data"
    }
   ],
   "source": [
    "# SVID of the satellite signal to acquire\n",
    "sat = 7\n",
    "\n",
    "CAF = caf.CAFInteractive(sat, data, signal_char, acq_char )"
   ]
  },
  {
   "cell_type": "code",
   "execution_count": null,
   "id": "dress-huntington",
   "metadata": {},
   "outputs": [],
   "source": [
    "fdata = np.fft.fft( CAF.data )\n",
    "import matplotlib.pyplot as plt\n",
    "plt.plot(abs(fdata))"
   ]
  },
  {
   "cell_type": "code",
   "execution_count": null,
   "id": "weekly-journalism",
   "metadata": {},
   "outputs": [],
   "source": []
  }
 ],
 "metadata": {
  "kernelspec": {
   "display_name": "Python 3",
   "language": "python",
   "name": "python3"
  },
  "language_info": {
   "codemirror_mode": {
    "name": "ipython",
    "version": 3
   },
   "file_extension": ".py",
   "mimetype": "text/x-python",
   "name": "python",
   "nbconvert_exporter": "python",
   "pygments_lexer": "ipython3",
   "version": "3.6.9"
  }
 },
 "nbformat": 4,
 "nbformat_minor": 5
}
