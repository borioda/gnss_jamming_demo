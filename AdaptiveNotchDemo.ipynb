{
 "cells": [
  {
   "cell_type": "markdown",
   "id": "prerequisite-microwave",
   "metadata": {},
   "source": [
    "**Demonstrate the operations of the Adaptive Notch Filter**"
   ]
  },
  {
   "cell_type": "code",
   "execution_count": 1,
   "id": "vanilla-extension",
   "metadata": {},
   "outputs": [],
   "source": [
    "%matplotlib widget\n",
    "\n",
    "# Load the required libraries\n",
    "import numpy as np\n",
    "\n",
    "from scipy import signal\n",
    "from scipy.fft import fftshift\n",
    "\n",
    "import matplotlib.pyplot as plt\n",
    "\n",
    "import ipywidgets as widgets\n",
    "from ipyfilechooser import FileChooser\n",
    "from IPython.display import display\n",
    "\n",
    "import adaptivenotch as anf"
   ]
  },
  {
   "cell_type": "markdown",
   "id": "diverse-letter",
   "metadata": {},
   "source": [
    "**Define the signal characteristics**"
   ]
  },
  {
   "cell_type": "code",
   "execution_count": 2,
   "id": "plastic-effects",
   "metadata": {},
   "outputs": [],
   "source": [
    "signal_char = {\n",
    "               \"fs\" : 10e6,          # Sampling frequency\n",
    "               \"fi\" : 0.0e6,         # Intermediate frequency\n",
    "              }\n",
    "\n",
    "isComplex = True   # Tell if the samples are in I/Q format\n",
    "is16Bits  = False  # Tell if the samples are stored on 16 bits/byte\n",
    "isRtl = False      # Tell if the data were collected using an RTl-SDR dongle"
   ]
  },
  {
   "cell_type": "markdown",
   "id": "gorgeous-lloyd",
   "metadata": {},
   "source": [
    "**Open the input file and read the data**"
   ]
  },
  {
   "cell_type": "code",
   "execution_count": 3,
   "id": "foster-volunteer",
   "metadata": {},
   "outputs": [
    {
     "data": {
      "application/vnd.jupyter.widget-view+json": {
       "model_id": "f8e9594ae5ee493eadaf0382ac2cc4fb",
       "version_major": 2,
       "version_minor": 0
      },
      "text/plain": [
       "FileChooser(path='/home/daniele/Documents/Projects/2021/Jamming demo', filename='', title='HTML(value='', layo…"
      ]
     },
     "metadata": {},
     "output_type": "display_data"
    }
   ],
   "source": [
    "# Create and display a FileChooser widget\n",
    "fc = FileChooser()\n",
    "display(fc)"
   ]
  },
  {
   "cell_type": "code",
   "execution_count": 5,
   "id": "complimentary-webster",
   "metadata": {},
   "outputs": [],
   "source": [
    "filename = fc.selected\n",
    "if filename is None :\n",
    "    filename = \"./data/JammerData.bin\"\n",
    "    \n",
    "#open the binary file\n",
    "fid = open(filename,'rb');\n",
    "\n",
    "secondOfData = 1e-4 # 100 mu seconds\n",
    "N = np.int(np.floor( secondOfData * signal_char[\"fs\"] ))\n",
    "\n",
    "if isComplex :\n",
    "    if is16Bits :    \n",
    "        data = np.fromfile(fid, dtype = np.int16, count = 2 * N )\n",
    "    else :\n",
    "        if isRtl :\n",
    "            data = np.fromfile(fid, dtype = np.uint8, count = 2 * N )\n",
    "            data = data.astype(dtype = np.int8) - 127\n",
    "        else :\n",
    "            data = np.fromfile(fid, dtype = np.int8, count = 2 * N )\n",
    "    data = data[::2] + 1j*data[1::2]\n",
    "else:\n",
    "    if is16Bits :    \n",
    "        data = np.fromfile(fid, dtype = np.int16, count = N )\n",
    "    else :\n",
    "        data = np.fromfile(fid, dtype = np.int8, count = N )"
   ]
  },
  {
   "cell_type": "markdown",
   "id": "aware-facial",
   "metadata": {},
   "source": [
    "**Create the Adaptive Notch Filter (ANF)**"
   ]
  },
  {
   "cell_type": "code",
   "execution_count": 6,
   "id": "diagnostic-daughter",
   "metadata": {},
   "outputs": [],
   "source": [
    "notch = anf.adaptivenotch(0.8, 0.05)\n",
    "y, z0 = notch.filter( data )"
   ]
  },
  {
   "cell_type": "code",
   "execution_count": 7,
   "id": "surface-bacon",
   "metadata": {},
   "outputs": [
    {
     "data": {
      "application/vnd.jupyter.widget-view+json": {
       "model_id": "a10c43d39b1e407fb7b08e3e720854e0",
       "version_major": 2,
       "version_minor": 0
      },
      "text/plain": [
       "Canvas(toolbar=Toolbar(toolitems=[('Home', 'Reset original view', 'home', 'home'), ('Back', 'Back to previous …"
      ]
     },
     "metadata": {},
     "output_type": "display_data"
    },
    {
     "data": {
      "application/vnd.jupyter.widget-view+json": {
       "model_id": "22f336a2be5643968a96349420a13f27",
       "version_major": 2,
       "version_minor": 0
      },
      "text/plain": [
       "interactive(children=(FloatSlider(value=0.9, description='ka', max=0.99, step=0.01), FloatSlider(value=0.01, d…"
      ]
     },
     "metadata": {},
     "output_type": "display_data"
    },
    {
     "data": {
      "text/plain": [
       "<function __main__.update(ka, mu)>"
      ]
     },
     "execution_count": 7,
     "metadata": {},
     "output_type": "execute_result"
    }
   ],
   "source": [
    "f, t, Sxx = signal.spectrogram(data, nfft = 1024, nperseg = 32, noverlap = 16, \n",
    "                               fs = signal_char[\"fs\"], return_onesided = False )\n",
    "\n",
    "# Create the interactive figure\n",
    "fig, ax = plt.subplots(1, 1)\n",
    "\n",
    "fig.set_size_inches(9, 5)\n",
    "ax.pcolormesh(t * 1e6, fftshift(f), fftshift(Sxx, axes=0), shading='gouraud')\n",
    "ax.set_ylabel('Frequency [Hz]', fontsize = 16)\n",
    "ax.set_xlabel('Time [$\\mu$s]', fontsize = 16)\n",
    "ax.tick_params(labelsize=16)\n",
    "\n",
    "line, = ax.plot(np.arange(0,len(data)) / signal_char[\"fs\"] * 1e6,\n",
    "                 signal_char[\"fs\"] * np.angle(z0) / (2 * np.pi), 'r')\n",
    "ax.set_xlim([5, 95])\n",
    "\n",
    "def update(ka, mu) :\n",
    "\n",
    "    # filter the data\n",
    "    notch = anf.adaptivenotch(ka, mu)\n",
    "    y, z0 = notch.filter( data )\n",
    "    \n",
    "    print(\"ka = %f\" % ka)\n",
    "        \n",
    "    line.set_ydata( signal_char[\"fs\"] * np.angle(z0) / (2 * np.pi) )\n",
    "    fig.canvas.draw_idle()\n",
    "    \n",
    "widgets.interact(update, ka = widgets.FloatSlider(value=0.9, min=0, max=0.99, step = 0.01, description='ka'),\n",
    "                 mu = widgets.FloatSlider(value=0.01, min=0.001, max=0.1, step = 0.01, description='$\\delta$'))"
   ]
  },
  {
   "cell_type": "code",
   "execution_count": 8,
   "id": "australian-english",
   "metadata": {},
   "outputs": [
    {
     "data": {
      "application/vnd.jupyter.widget-view+json": {
       "model_id": "cdac1722030246b887e7467f23be96c4",
       "version_major": 2,
       "version_minor": 0
      },
      "text/plain": [
       "VBox(children=(Figure(camera=PerspectiveCamera(fov=46.0, position=(0.0, 0.0, 2.0), projectionMatrix=(1.0, 0.0,…"
      ]
     },
     "metadata": {},
     "output_type": "display_data"
    }
   ],
   "source": [
    "import ipyvolume as ipv\n",
    "from matplotlib import cm\n",
    "\n",
    "f, t, Syy = signal.spectrogram(y, nfft = 1024, nperseg = 32, noverlap = 16, \n",
    "                               fs = signal_char[\"fs\"], return_onesided = False )\n",
    "\n",
    "ipv.figure(width=800, height=500)\n",
    "T, F = np.meshgrid(t * 1e6, fftshift(f))\n",
    "Z = fftshift(Syy, axes=0) / Sxx.max()\n",
    "colormap = cm.coolwarm\n",
    "color = colormap(Z)\n",
    "\n",
    "ipv.plot_surface(T, Z, F, color = color)\n",
    "ipv.show()"
   ]
  },
  {
   "cell_type": "code",
   "execution_count": null,
   "id": "interpreted-trash",
   "metadata": {},
   "outputs": [],
   "source": []
  }
 ],
 "metadata": {
  "kernelspec": {
   "display_name": "Python 3",
   "language": "python",
   "name": "python3"
  },
  "language_info": {
   "codemirror_mode": {
    "name": "ipython",
    "version": 3
   },
   "file_extension": ".py",
   "mimetype": "text/x-python",
   "name": "python",
   "nbconvert_exporter": "python",
   "pygments_lexer": "ipython3",
   "version": "3.6.9"
  }
 },
 "nbformat": 4,
 "nbformat_minor": 5
}
